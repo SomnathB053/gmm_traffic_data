{
 "cells": [
  {
   "cell_type": "markdown",
   "id": "1619739f",
   "metadata": {},
   "source": [
    "#### Requirements\n",
    "Using Python 3.11\n",
    "\n",
    "**Necessary**\n",
    "- Numpy \n",
    "- Pandas\n",
    "- Matplotlib\n",
    "- Seaborn (nice graphs)\n",
    "\n",
    "_Might Need_\n",
    "- Scipy\n",
    "- Scikit-Learn\n",
    "- tqdm (decoration) \n",
    "\n",
    "`pip install pandas seaborn scipy scikit-learn tqdm --no-cache-dir`\n"
   ]
  },
  {
   "cell_type": "markdown",
   "id": "379c9000",
   "metadata": {},
   "source": [
    "# Data"
   ]
  },
  {
   "cell_type": "markdown",
   "id": "a0fcf474",
   "metadata": {},
   "source": [
    "## Inspection"
   ]
  },
  {
   "cell_type": "markdown",
   "id": "d569744e",
   "metadata": {},
   "source": [
    "Just inspect it and decide which dataset to use and stuff\n",
    "\n",
    "Viable Datasets\n",
    "- [Traffic flow in Romanian cities during and around lifting of COVID19 restrictions](https://data.mendeley.com/datasets/g64s8h9k57/3)\n",
    "- [New Delhi Traffic Probe & Analytics 2024](https://www.kaggle.com/datasets/rawsi18/new-delhi-traffic-probe-and-analytics-2024)"
   ]
  },
  {
   "cell_type": "code",
   "execution_count": null,
   "id": "29c79f83",
   "metadata": {},
   "outputs": [],
   "source": [
    "import numpy as np\n",
    "import pandas as pd\n"
   ]
  },
  {
   "cell_type": "code",
   "execution_count": 1,
   "id": "b4394079",
   "metadata": {},
   "outputs": [
    {
     "name": "stdout",
     "output_type": "stream",
     "text": [
      "a\n"
     ]
    }
   ],
   "source": [
    "print(\"a\")"
   ]
  },
  {
   "cell_type": "markdown",
   "id": "c5a9ff02",
   "metadata": {},
   "source": [
    "## Sanitaion"
   ]
  },
  {
   "cell_type": "markdown",
   "id": "b49848ce",
   "metadata": {},
   "source": [
    "We need it in .csv, in nice and tidy format. "
   ]
  },
  {
   "cell_type": "code",
   "execution_count": null,
   "id": "a79c25f5",
   "metadata": {},
   "outputs": [],
   "source": []
  },
  {
   "cell_type": "markdown",
   "id": "ee251dc1",
   "metadata": {},
   "source": [
    "# Algorithm"
   ]
  },
  {
   "cell_type": "markdown",
   "id": "917f8254",
   "metadata": {},
   "source": [
    "# Graphs and Interpretations and stuff"
   ]
  }
 ],
 "metadata": {
  "kernelspec": {
   "display_name": "default",
   "language": "python",
   "name": "python3"
  },
  "language_info": {
   "codemirror_mode": {
    "name": "ipython",
    "version": 3
   },
   "file_extension": ".py",
   "mimetype": "text/x-python",
   "name": "python",
   "nbconvert_exporter": "python",
   "pygments_lexer": "ipython3",
   "version": "3.11.14"
  }
 },
 "nbformat": 4,
 "nbformat_minor": 5
}
